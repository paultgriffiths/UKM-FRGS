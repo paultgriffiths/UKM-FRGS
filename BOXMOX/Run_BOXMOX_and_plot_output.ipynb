{
 "cells": [
  {
   "cell_type": "markdown",
   "metadata": {},
   "source": [
    "## preamble"
   ]
  },
  {
   "cell_type": "code",
   "execution_count": 2,
   "metadata": {},
   "outputs": [],
   "source": [
    "import pandas as pd"
   ]
  },
  {
   "cell_type": "markdown",
   "metadata": {},
   "source": [
    "## run the model\n",
    "note you will need to modify this to reflect the location of the input files"
   ]
  },
  {
   "cell_type": "code",
   "execution_count": 3,
   "metadata": {},
   "outputs": [],
   "source": [
    "%%bash --out model_msg\n",
    "/home/ptg21/do_model_run.sh pbl_diurnal_cycle MOZART_4 /mnt/c/Users/pault/OneDrive/Documents/GitHub/UKM-FRGS/BOXMOX/ boxmox_defaults/ boxmox_output/"
   ]
  },
  {
   "cell_type": "markdown",
   "metadata": {},
   "source": [
    "## any errors?"
   ]
  },
  {
   "cell_type": "code",
   "execution_count": 4,
   "metadata": {},
   "outputs": [
    {
     "name": "stdout",
     "output_type": "stream",
     "text": [
      "MODEL IS  pbl_diurnal_cycle\n",
      "MECHANISM IS  MOZART_4\n",
      "WINDOWS ROOT DIRECTOR IS  /mnt/c/Users/pault/OneDrive/Documents/GitHub/UKM-FRGS/BOXMOX/\n",
      "INPUT DATA SUBDIRECTORY IS  boxmox_defaults/\n",
      "OUTPUT DATA SUBDIRECTORY IS  boxmox_output/\n",
      "COPY ACROSS FILES\n",
      "/home/ptg21/boxmox/boxmox/bin//pbl_diurnal_cycle\n",
      "/home/ptg21/boxmox/boxmox/bin/pbl_diurnal_cycle\n",
      "RUN MODEL\n",
      "  \n",
      " ------------------------------------------------------------\n",
      " BOXMOX (1.7) driver\n",
      " ------------------------------------------------------------\n",
      "  \n",
      " BOXMOX configuration file BOXMOX.nml found.\n",
      "  \n",
      "              TSTART         0.000\n",
      "                TEND    345600.000\n",
      "                  DT       300.000\n",
      " \n",
      "            lverbose           F\n",
      " \n",
      "               iturb           2\n",
      "  \n",
      " ------------------------------------------------------------\n",
      "  \n",
      " \n",
      "  * Environment.csv\n",
      "      useable:TEMP,PBLH\n",
      " \n",
      "  * InitialConditions.csv\n",
      "      useable:CH2O,CH4,H2O,CO,NO,NO2,O3,ISOP,M,H2,N2O\n",
      "      unknown: CO2,O2,N2\n",
      " \n",
      "  * Environment.csv\n",
      "      useable:TEMP,PBLH\n",
      " \n",
      "  * PhotolysisRates.csv\n",
      "      known:acrolein,c2cho,ccho_r,ch2om,ch2or,ch3cho,ch3coc2h5,ch3coch3,ch3cocho,\n",
      "      ch3coo2h,ch3o2h,ch3ono2,cl2,cooh,fmcl,gly,glyald,h2o2,hcochest,\n",
      "      hcocho,hcochob,hno2,hno3,hno4,hno4_2,hocl,hyac,mek,n2o,n2o5,no2,\n",
      "      no3o,no3o2,ntr,o2,o31d,o33p,pacd,pan,pooh\n",
      " \n",
      "  * Background.csv\n",
      "      useable:M,H2O,CH4,H2,CO,O3,NO,NO2,SO2,N2O\n",
      " \n",
      "  * Emissions.csv\n",
      "      useable:CO,NH3,NO,NO2,SO2,ISOP,MACR,CH3CHO,C2H6,C2H4,C2H5OH,CH2O,CH3OH,\n",
      "      TOLUENE,C3H6,BIGENE,BIGALK,C3H8,CH3COCH3,MVK\n",
      "      unknown: HONO,APIN,BPIN,BENZENE,C2H2,XYLENES\n",
      " \n",
      "  * Deposition.csv\n",
      "      useable:CO,NO,NO2,NO3,HNO3,N2O5,HO2NO2,O3,H2O2,CH3OOH,SO2\n",
      "      unknown: HONO\n",
      "  \n",
      "  49.9%. T=0.172E+06\n",
      "  99.9%. T=0.345E+06\n",
      " 100.0%. T=0.346E+06\n",
      "  \n",
      " ------------------------------------------------------------\n",
      " BOXMOX successfully completed.\n",
      " ------------------------------------------------------------\n",
      "  \n",
      "COPY BACK OUTPUT\n",
      "/mnt/c/Users/pault/OneDrive/Documents/GitHub/UKM-FRGS/BOXMOX/\n",
      "boxmox_output/\n",
      "MOZART_4.conc\n",
      "\n"
     ]
    }
   ],
   "source": [
    "print(model_msg)"
   ]
  },
  {
   "cell_type": "markdown",
   "metadata": {},
   "source": [
    "## plot the data"
   ]
  },
  {
   "cell_type": "code",
   "execution_count": 5,
   "metadata": {},
   "outputs": [],
   "source": [
    "results = pd.read_csv('boxmox_output/MOZART_4.conc', sep='\\s+', header=0)"
   ]
  },
  {
   "cell_type": "markdown",
   "metadata": {},
   "source": [
    "## convert to datetime object for plotting"
   ]
  },
  {
   "cell_type": "code",
   "execution_count": 6,
   "metadata": {},
   "outputs": [],
   "source": [
    "timeorigin = pd.to_datetime('2020-01-01') # totally arbitrary!\n",
    "\n",
    "results.time = timeorigin + pd.to_timedelta(results.time, unit='h')\n",
    "results.index = results.time\n"
   ]
  },
  {
   "cell_type": "markdown",
   "metadata": {},
   "source": [
    "## plotting"
   ]
  },
  {
   "cell_type": "code",
   "execution_count": 42,
   "metadata": {},
   "outputs": [
    {
     "data": {
      "text/plain": [
       "<matplotlib.axes._subplots.AxesSubplot at 0x17bf87313d0>"
      ]
     },
     "execution_count": 42,
     "metadata": {},
     "output_type": "execute_result"
    },
    {
     "data": {
      "image/png": "[encoded data removed]",
      "text/plain": [
       "<Figure size 432x288 with 1 Axes>"
      ]
     },
     "metadata": {
      "needs_background": "light"
     },
     "output_type": "display_data"
    }
   ],
   "source": [
    "results['NO'].plot()"
   ]
  },
  {
   "cell_type": "code",
   "execution_count": null,
   "metadata": {},
   "outputs": [],
   "source": []
  }
 ],
 "metadata": {
  "kernelspec": {
   "display_name": "Python 3",
   "language": "python",
   "name": "python3"
  },
  "language_info": {
   "codemirror_mode": {
    "name": "ipython",
    "version": 3
   },
   "file_extension": ".py",
   "mimetype": "text/x-python",
   "name": "python",
   "nbconvert_exporter": "python",
   "pygments_lexer": "ipython3",
   "version": "3.8.3"
  }
 },
 "nbformat": 4,
 "nbformat_minor": 4
}
